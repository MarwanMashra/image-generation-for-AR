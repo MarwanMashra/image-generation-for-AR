{
 "cells": [
  {
   "cell_type": "code",
   "execution_count": 34,
   "metadata": {},
   "outputs": [],
   "source": [
    "import argparse\n",
    "import cv2\n",
    "import glob\n",
    "import os\n",
    "from basicsr.archs.rrdbnet_arch import RRDBNet\n",
    "\n",
    "import sys\n",
    "sys.path.insert(0, './RealESRGAN')\n",
    "\n",
    "from realesrgan.utils import RealESRGANer\n",
    "from realesrgan.archs.srvgg_arch import SRVGGNetCompact"
   ]
  },
  {
   "cell_type": "code",
   "execution_count": 24,
   "metadata": {},
   "outputs": [],
   "source": [
    "\n",
    " "
   ]
  }
 ],
 "metadata": {
  "kernelspec": {
   "display_name": "Python 3.10.4 64-bit",
   "language": "python",
   "name": "python3"
  },
  "language_info": {
   "codemirror_mode": {
    "name": "ipython",
    "version": 3
   },
   "file_extension": ".py",
   "mimetype": "text/x-python",
   "name": "python",
   "nbconvert_exporter": "python",
   "pygments_lexer": "ipython3",
   "version": "3.10.4"
  },
  "orig_nbformat": 4,
  "vscode": {
   "interpreter": {
    "hash": "33184612fe23ea789693bd8266f7c5cf5860109e6e433b1efdda378c5f430ce8"
   }
  }
 },
 "nbformat": 4,
 "nbformat_minor": 2
}
