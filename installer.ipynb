{
 "cells": [
  {
   "cell_type": "code",
   "execution_count": null,
   "metadata": {},
   "outputs": [],
   "source": [
    "# install requirements\n",
    "!pip install -r requirements.txt\n",
    "\n",
    "\n",
    "# install rembg\n",
    "%cd \"rembg\"\n",
    "!pip install -e .\n",
    "%cd ..\n",
    "\n",
    "# install Real-ESRGAN\n",
    "%cd Real-ESRGAN\n",
    "# Set up the environment\n",
    "!python setup.py develop\n",
    "%cd ..\n",
    "\n",
    "# Download the pre-trained model for Real-ESRGAN\n",
    "!wget https://github.com/xinntao/Real-ESRGAN/releases/download/v0.1.0/RealESRGAN_x4plus.pth -P Real-ESRGAN/experiments/pretrained_models\n",
    "\n",
    "# Download stable diffusion for inpainting\n",
    "!wget https://huggingface.co/runwayml/stable-diffusion-inpainting/resolve/main/sd-v1-5-inpainting.ckpt -P sd-v1-5-inpainting\n",
    "!wget https://huggingface.co/runwayml/stable-diffusion-inpainting/resolve/main/unet/diffusion_pytorch_model.bin -P sd-v1-5-inpainting/unet\n",
    "!wget https://huggingface.co/runwayml/stable-diffusion-inpainting/resolve/main/vae/diffusion_pytorch_model.bin -P sd-v1-5-inpainting/vae\n",
    "!wget https://huggingface.co/runwayml/stable-diffusion-inpainting/resolve/main/safety_checker/pytorch_model.bin -P sd-v1-5-inpainting/safety_checker\n",
    "!wget https://huggingface.co/runwayml/stable-diffusion-inpainting/resolve/main/text_encoder/pytorch_model.bin -P sd-v1-5-inpainting/text_encoder\n",
    "\n",
    "\n"
   ]
  }
 ],
 "metadata": {
  "kernelspec": {
   "display_name": "Python 3.10.4 64-bit",
   "language": "python",
   "name": "python3"
  },
  "language_info": {
   "name": "python",
   "version": "3.10.4"
  },
  "orig_nbformat": 4,
  "vscode": {
   "interpreter": {
    "hash": "33184612fe23ea789693bd8266f7c5cf5860109e6e433b1efdda378c5f430ce8"
   }
  }
 },
 "nbformat": 4,
 "nbformat_minor": 2
}
